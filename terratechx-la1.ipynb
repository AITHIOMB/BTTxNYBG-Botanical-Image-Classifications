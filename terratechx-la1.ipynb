{
 "cells": [
  {
   "cell_type": "code",
   "execution_count": 1,
   "id": "ea6b947c",
   "metadata": {
    "_cell_guid": "b1076dfc-b9ad-4769-8c92-a6c4dae69d19",
    "_uuid": "8f2839f25d086af736a60e9eeb907d3b93b6e0e5",
    "collapsed": true,
    "execution": {
     "iopub.execute_input": "2024-03-24T07:41:07.874973Z",
     "iopub.status.busy": "2024-03-24T07:41:07.874373Z",
     "iopub.status.idle": "2024-03-24T07:42:16.250308Z",
     "shell.execute_reply": "2024-03-24T07:42:16.249395Z"
    },
    "jupyter": {
     "outputs_hidden": true
    },
    "papermill": {
     "duration": 68.385267,
     "end_time": "2024-03-24T07:42:16.252715",
     "exception": false,
     "start_time": "2024-03-24T07:41:07.867448",
     "status": "completed"
    },
    "tags": []
   },
   "outputs": [
    {
     "name": "stdout",
     "output_type": "stream",
     "text": [
      "Requirement already satisfied: tensorflow in /opt/conda/lib/python3.10/site-packages (2.15.0)\r\n",
      "Collecting tensorflow\r\n",
      "  Downloading tensorflow-2.16.1-cp310-cp310-manylinux_2_17_x86_64.manylinux2014_x86_64.whl.metadata (4.3 kB)\r\n",
      "Requirement already satisfied: absl-py>=1.0.0 in /opt/conda/lib/python3.10/site-packages (from tensorflow) (1.4.0)\r\n",
      "Requirement already satisfied: astunparse>=1.6.0 in /opt/conda/lib/python3.10/site-packages (from tensorflow) (1.6.3)\r\n",
      "Requirement already satisfied: flatbuffers>=23.5.26 in /opt/conda/lib/python3.10/site-packages (from tensorflow) (23.5.26)\r\n",
      "Requirement already satisfied: gast!=0.5.0,!=0.5.1,!=0.5.2,>=0.2.1 in /opt/conda/lib/python3.10/site-packages (from tensorflow) (0.5.4)\r\n",
      "Requirement already satisfied: google-pasta>=0.1.1 in /opt/conda/lib/python3.10/site-packages (from tensorflow) (0.2.0)\r\n",
      "Requirement already satisfied: h5py>=3.10.0 in /opt/conda/lib/python3.10/site-packages (from tensorflow) (3.10.0)\r\n",
      "Requirement already satisfied: libclang>=13.0.0 in /opt/conda/lib/python3.10/site-packages (from tensorflow) (16.0.6)\r\n",
      "Collecting ml-dtypes~=0.3.1 (from tensorflow)\r\n",
      "  Downloading ml_dtypes-0.3.2-cp310-cp310-manylinux_2_17_x86_64.manylinux2014_x86_64.whl.metadata (20 kB)\r\n",
      "Requirement already satisfied: opt-einsum>=2.3.2 in /opt/conda/lib/python3.10/site-packages (from tensorflow) (3.3.0)\r\n",
      "Requirement already satisfied: packaging in /opt/conda/lib/python3.10/site-packages (from tensorflow) (21.3)\r\n",
      "Requirement already satisfied: protobuf!=4.21.0,!=4.21.1,!=4.21.2,!=4.21.3,!=4.21.4,!=4.21.5,<5.0.0dev,>=3.20.3 in /opt/conda/lib/python3.10/site-packages (from tensorflow) (3.20.3)\r\n",
      "Requirement already satisfied: requests<3,>=2.21.0 in /opt/conda/lib/python3.10/site-packages (from tensorflow) (2.31.0)\r\n",
      "Requirement already satisfied: setuptools in /opt/conda/lib/python3.10/site-packages (from tensorflow) (69.0.3)\r\n",
      "Requirement already satisfied: six>=1.12.0 in /opt/conda/lib/python3.10/site-packages (from tensorflow) (1.16.0)\r\n",
      "Requirement already satisfied: termcolor>=1.1.0 in /opt/conda/lib/python3.10/site-packages (from tensorflow) (2.4.0)\r\n",
      "Requirement already satisfied: typing-extensions>=3.6.6 in /opt/conda/lib/python3.10/site-packages (from tensorflow) (4.9.0)\r\n",
      "Requirement already satisfied: wrapt>=1.11.0 in /opt/conda/lib/python3.10/site-packages (from tensorflow) (1.14.1)\r\n",
      "Requirement already satisfied: grpcio<2.0,>=1.24.3 in /opt/conda/lib/python3.10/site-packages (from tensorflow) (1.51.1)\r\n",
      "Collecting tensorboard<2.17,>=2.16 (from tensorflow)\r\n",
      "  Downloading tensorboard-2.16.2-py3-none-any.whl.metadata (1.6 kB)\r\n",
      "Requirement already satisfied: keras>=3.0.0 in /opt/conda/lib/python3.10/site-packages (from tensorflow) (3.0.5)\r\n",
      "Requirement already satisfied: tensorflow-io-gcs-filesystem>=0.23.1 in /opt/conda/lib/python3.10/site-packages (from tensorflow) (0.35.0)\r\n",
      "Requirement already satisfied: numpy<2.0.0,>=1.23.5 in /opt/conda/lib/python3.10/site-packages (from tensorflow) (1.26.4)\r\n",
      "Requirement already satisfied: wheel<1.0,>=0.23.0 in /opt/conda/lib/python3.10/site-packages (from astunparse>=1.6.0->tensorflow) (0.42.0)\r\n",
      "Requirement already satisfied: rich in /opt/conda/lib/python3.10/site-packages (from keras>=3.0.0->tensorflow) (13.7.0)\r\n",
      "Requirement already satisfied: namex in /opt/conda/lib/python3.10/site-packages (from keras>=3.0.0->tensorflow) (0.0.7)\r\n",
      "Requirement already satisfied: dm-tree in /opt/conda/lib/python3.10/site-packages (from keras>=3.0.0->tensorflow) (0.1.8)\r\n",
      "Requirement already satisfied: charset-normalizer<4,>=2 in /opt/conda/lib/python3.10/site-packages (from requests<3,>=2.21.0->tensorflow) (3.3.2)\r\n",
      "Requirement already satisfied: idna<4,>=2.5 in /opt/conda/lib/python3.10/site-packages (from requests<3,>=2.21.0->tensorflow) (3.6)\r\n",
      "Requirement already satisfied: urllib3<3,>=1.21.1 in /opt/conda/lib/python3.10/site-packages (from requests<3,>=2.21.0->tensorflow) (1.26.18)\r\n",
      "Requirement already satisfied: certifi>=2017.4.17 in /opt/conda/lib/python3.10/site-packages (from requests<3,>=2.21.0->tensorflow) (2024.2.2)\r\n",
      "Requirement already satisfied: markdown>=2.6.8 in /opt/conda/lib/python3.10/site-packages (from tensorboard<2.17,>=2.16->tensorflow) (3.5.2)\r\n",
      "Requirement already satisfied: tensorboard-data-server<0.8.0,>=0.7.0 in /opt/conda/lib/python3.10/site-packages (from tensorboard<2.17,>=2.16->tensorflow) (0.7.2)\r\n",
      "Requirement already satisfied: werkzeug>=1.0.1 in /opt/conda/lib/python3.10/site-packages (from tensorboard<2.17,>=2.16->tensorflow) (3.0.1)\r\n",
      "Requirement already satisfied: pyparsing!=3.0.5,>=2.0.2 in /opt/conda/lib/python3.10/site-packages (from packaging->tensorflow) (3.1.1)\r\n",
      "Requirement already satisfied: MarkupSafe>=2.1.1 in /opt/conda/lib/python3.10/site-packages (from werkzeug>=1.0.1->tensorboard<2.17,>=2.16->tensorflow) (2.1.3)\r\n",
      "Requirement already satisfied: markdown-it-py>=2.2.0 in /opt/conda/lib/python3.10/site-packages (from rich->keras>=3.0.0->tensorflow) (3.0.0)\r\n",
      "Requirement already satisfied: pygments<3.0.0,>=2.13.0 in /opt/conda/lib/python3.10/site-packages (from rich->keras>=3.0.0->tensorflow) (2.17.2)\r\n",
      "Requirement already satisfied: mdurl~=0.1 in /opt/conda/lib/python3.10/site-packages (from markdown-it-py>=2.2.0->rich->keras>=3.0.0->tensorflow) (0.1.2)\r\n",
      "Downloading tensorflow-2.16.1-cp310-cp310-manylinux_2_17_x86_64.manylinux2014_x86_64.whl (589.8 MB)\r\n",
      "\u001b[2K   \u001b[90m━━━━━━━━━━━━━━━━━━━━━━━━━━━━━━━━━━━━━━━━\u001b[0m \u001b[32m589.8/589.8 MB\u001b[0m \u001b[31m2.7 MB/s\u001b[0m eta \u001b[36m0:00:00\u001b[0m\r\n",
      "\u001b[?25hDownloading ml_dtypes-0.3.2-cp310-cp310-manylinux_2_17_x86_64.manylinux2014_x86_64.whl (2.2 MB)\r\n",
      "\u001b[2K   \u001b[90m━━━━━━━━━━━━━━━━━━━━━━━━━━━━━━━━━━━━━━━━\u001b[0m \u001b[32m2.2/2.2 MB\u001b[0m \u001b[31m4.3 MB/s\u001b[0m eta \u001b[36m0:00:00\u001b[0m\r\n",
      "\u001b[?25hDownloading tensorboard-2.16.2-py3-none-any.whl (5.5 MB)\r\n",
      "\u001b[2K   \u001b[90m━━━━━━━━━━━━━━━━━━━━━━━━━━━━━━━━━━━━━━━━\u001b[0m \u001b[32m5.5/5.5 MB\u001b[0m \u001b[31m20.5 MB/s\u001b[0m eta \u001b[36m0:00:00\u001b[0m\r\n",
      "\u001b[?25hInstalling collected packages: ml-dtypes, tensorboard, tensorflow\r\n",
      "  Attempting uninstall: ml-dtypes\r\n",
      "    Found existing installation: ml-dtypes 0.2.0\r\n",
      "    Uninstalling ml-dtypes-0.2.0:\r\n",
      "      Successfully uninstalled ml-dtypes-0.2.0\r\n",
      "  Attempting uninstall: tensorboard\r\n",
      "    Found existing installation: tensorboard 2.15.1\r\n",
      "    Uninstalling tensorboard-2.15.1:\r\n",
      "      Successfully uninstalled tensorboard-2.15.1\r\n",
      "  Attempting uninstall: tensorflow\r\n",
      "    Found existing installation: tensorflow 2.15.0\r\n",
      "    Uninstalling tensorflow-2.15.0:\r\n",
      "      Successfully uninstalled tensorflow-2.15.0\r\n",
      "\u001b[31mERROR: pip's dependency resolver does not currently take into account all the packages that are installed. This behaviour is the source of the following dependency conflicts.\r\n",
      "tensorflow-decision-forests 1.8.1 requires wurlitzer, which is not installed.\r\n",
      "tensorflow-decision-forests 1.8.1 requires tensorflow~=2.15.0, but you have tensorflow 2.16.1 which is incompatible.\r\n",
      "tensorflow-text 2.15.0 requires tensorflow<2.16,>=2.15.0; platform_machine != \"arm64\" or platform_system != \"Darwin\", but you have tensorflow 2.16.1 which is incompatible.\r\n",
      "tf-keras 2.15.1 requires tensorflow<2.16,>=2.15, but you have tensorflow 2.16.1 which is incompatible.\u001b[0m\u001b[31m\r\n",
      "\u001b[0mSuccessfully installed ml-dtypes-0.3.2 tensorboard-2.16.2 tensorflow-2.16.1\r\n"
     ]
    }
   ],
   "source": [
    "!pip install --upgrade tensorflow"
   ]
  },
  {
   "cell_type": "code",
   "execution_count": 2,
   "id": "21e7c192",
   "metadata": {
    "execution": {
     "iopub.execute_input": "2024-03-24T07:42:16.296595Z",
     "iopub.status.busy": "2024-03-24T07:42:16.295960Z",
     "iopub.status.idle": "2024-03-24T07:42:22.218796Z",
     "shell.execute_reply": "2024-03-24T07:42:22.217979Z"
    },
    "papermill": {
     "duration": 5.94659,
     "end_time": "2024-03-24T07:42:22.220985",
     "exception": false,
     "start_time": "2024-03-24T07:42:16.274395",
     "status": "completed"
    },
    "tags": []
   },
   "outputs": [],
   "source": [
    "import tensorflow as tf\n",
    "import pandas as pd\n",
    "from tensorflow.keras.preprocessing.image import ImageDataGenerator\n",
    "import os\n",
    "from matplotlib import pyplot as plt\n",
    "import numpy as np"
   ]
  },
  {
   "cell_type": "code",
   "execution_count": 3,
   "id": "e298b1db",
   "metadata": {
    "execution": {
     "iopub.execute_input": "2024-03-24T07:42:22.265071Z",
     "iopub.status.busy": "2024-03-24T07:42:22.264578Z",
     "iopub.status.idle": "2024-03-24T07:42:22.477797Z",
     "shell.execute_reply": "2024-03-24T07:42:22.476871Z"
    },
    "papermill": {
     "duration": 0.236576,
     "end_time": "2024-03-24T07:42:22.479854",
     "exception": false,
     "start_time": "2024-03-24T07:42:22.243278",
     "status": "completed"
    },
    "tags": []
   },
   "outputs": [],
   "source": [
    "gpus = tf.config.experimental.list_physical_devices('GPU')\n",
    "for gpu in gpus:\n",
    "    tf.config.experimental.set_memory_growth(gpu, True)"
   ]
  },
  {
   "cell_type": "code",
   "execution_count": 4,
   "id": "c85160fa",
   "metadata": {
    "execution": {
     "iopub.execute_input": "2024-03-24T07:42:22.521779Z",
     "iopub.status.busy": "2024-03-24T07:42:22.521439Z",
     "iopub.status.idle": "2024-03-24T07:42:22.730468Z",
     "shell.execute_reply": "2024-03-24T07:42:22.729560Z"
    },
    "papermill": {
     "duration": 0.232481,
     "end_time": "2024-03-24T07:42:22.732967",
     "exception": false,
     "start_time": "2024-03-24T07:42:22.500486",
     "status": "completed"
    },
    "tags": []
   },
   "outputs": [],
   "source": [
    "train_df = pd.read_csv('/kaggle/input/bttai-nybg-2024/BTTAIxNYBG-train.csv')\n",
    "validation_df = pd.read_csv('/kaggle/input/bttai-nybg-2024/BTTAIxNYBG-validation.csv')\n",
    "test_df = pd.read_csv('/kaggle/input/bttai-nybg-2024/BTTAIxNYBG-test.csv')\n",
    "\n",
    "train_datagen = ImageDataGenerator(rescale=1./255)\n",
    "validation_datagen = ImageDataGenerator(rescale=1./255)\n",
    "test_datagen = ImageDataGenerator(rescale=1./255)\n"
   ]
  },
  {
   "cell_type": "code",
   "execution_count": 5,
   "id": "a35d4a4d",
   "metadata": {
    "execution": {
     "iopub.execute_input": "2024-03-24T07:42:22.775082Z",
     "iopub.status.busy": "2024-03-24T07:42:22.774784Z",
     "iopub.status.idle": "2024-03-24T07:42:22.784533Z",
     "shell.execute_reply": "2024-03-24T07:42:22.783558Z"
    },
    "papermill": {
     "duration": 0.032817,
     "end_time": "2024-03-24T07:42:22.786424",
     "exception": false,
     "start_time": "2024-03-24T07:42:22.753607",
     "status": "completed"
    },
    "tags": []
   },
   "outputs": [
    {
     "name": "stdout",
     "output_type": "stream",
     "text": [
      "   uniqueID           classLabel  classID source             imageFile\n",
      "0         2   occluded-specimens        8      L  a1a8b48e8cb142b3.jpg\n",
      "1         3    microscope-slides        6      L  79599db2ac9092b6.jpg\n",
      "2         4  illustrations-color        2    BHL  c449696f2f0d0d92.jpg\n",
      "3         5  illustrations-color        2      P  80a8f4a393b4e08c.jpg\n",
      "4         6     animal-specimens        0     AK  041a1c6e73313638.jpg\n"
     ]
    }
   ],
   "source": [
    "print(train_df.head())\n"
   ]
  },
  {
   "cell_type": "code",
   "execution_count": 6,
   "id": "62cfba27",
   "metadata": {
    "execution": {
     "iopub.execute_input": "2024-03-24T07:42:22.828535Z",
     "iopub.status.busy": "2024-03-24T07:42:22.828237Z",
     "iopub.status.idle": "2024-03-24T07:45:32.841228Z",
     "shell.execute_reply": "2024-03-24T07:45:32.840332Z"
    },
    "papermill": {
     "duration": 190.036099,
     "end_time": "2024-03-24T07:45:32.843316",
     "exception": false,
     "start_time": "2024-03-24T07:42:22.807217",
     "status": "completed"
    },
    "tags": []
   },
   "outputs": [
    {
     "name": "stdout",
     "output_type": "stream",
     "text": [
      "Found 81946 validated image filenames belonging to 10 classes.\n",
      "Found 10244 validated image filenames belonging to 10 classes.\n"
     ]
    }
   ],
   "source": [
    "train_generator = train_datagen.flow_from_dataframe(\n",
    "    dataframe=train_df,\n",
    "    directory='/kaggle/input/bttai-nybg-2024/BTTAIxNYBG-train/BTTAIxNYBG-train',\n",
    "    x_col=\"imageFile\",\n",
    "    y_col=\"classLabel\",\n",
    "    target_size=(256, 256),\n",
    "    batch_size=32,\n",
    "    class_mode='categorical')\n",
    "\n",
    "validation_generator = validation_datagen.flow_from_dataframe(\n",
    "    dataframe=validation_df,\n",
    "    directory='/kaggle/input/bttai-nybg-2024/BTTAIxNYBG-validation/BTTAIxNYBG-validation',\n",
    "    x_col=\"imageFile\",\n",
    "    y_col=\"classLabel\",\n",
    "    target_size=(256, 256),\n",
    "    batch_size=32,\n",
    "    class_mode='categorical')\n"
   ]
  },
  {
   "cell_type": "code",
   "execution_count": 7,
   "id": "066c77dd",
   "metadata": {
    "execution": {
     "iopub.execute_input": "2024-03-24T07:45:32.886324Z",
     "iopub.status.busy": "2024-03-24T07:45:32.885816Z",
     "iopub.status.idle": "2024-03-24T07:45:33.113278Z",
     "shell.execute_reply": "2024-03-24T07:45:33.112520Z"
    },
    "papermill": {
     "duration": 0.25118,
     "end_time": "2024-03-24T07:45:33.115491",
     "exception": false,
     "start_time": "2024-03-24T07:45:32.864311",
     "status": "completed"
    },
    "tags": []
   },
   "outputs": [],
   "source": [
    "num_classes = len(train_generator.class_indices)\n",
    "\n",
    "model = tf.keras.models.Sequential([\n",
    "    tf.keras.layers.Input(shape=(256, 256, 3)),\n",
    "    tf.keras.layers.Conv2D(32, (3, 3), activation='relu'),\n",
    "    tf.keras.layers.MaxPooling2D(2, 2),\n",
    "    tf.keras.layers.Flatten(),\n",
    "    tf.keras.layers.Dense(128, activation='relu'),\n",
    "    tf.keras.layers.Dense(num_classes, activation='softmax')\n",
    "])\n",
    "\n",
    "model.compile(optimizer='adam',\n",
    "              loss='categorical_crossentropy',\n",
    "              metrics=['accuracy'])\n"
   ]
  },
  {
   "cell_type": "code",
   "execution_count": 8,
   "id": "b7b655c3",
   "metadata": {
    "collapsed": true,
    "execution": {
     "iopub.execute_input": "2024-03-24T07:45:33.158278Z",
     "iopub.status.busy": "2024-03-24T07:45:33.157994Z",
     "iopub.status.idle": "2024-03-24T07:45:45.618324Z",
     "shell.execute_reply": "2024-03-24T07:45:45.617176Z"
    },
    "jupyter": {
     "outputs_hidden": true
    },
    "papermill": {
     "duration": 12.483886,
     "end_time": "2024-03-24T07:45:45.620456",
     "exception": false,
     "start_time": "2024-03-24T07:45:33.136570",
     "status": "completed"
    },
    "tags": []
   },
   "outputs": [
    {
     "name": "stdout",
     "output_type": "stream",
     "text": [
      "Requirement already satisfied: tensorflow in /opt/conda/lib/python3.10/site-packages (2.16.1)\r\n",
      "Requirement already satisfied: absl-py>=1.0.0 in /opt/conda/lib/python3.10/site-packages (from tensorflow) (1.4.0)\r\n",
      "Requirement already satisfied: astunparse>=1.6.0 in /opt/conda/lib/python3.10/site-packages (from tensorflow) (1.6.3)\r\n",
      "Requirement already satisfied: flatbuffers>=23.5.26 in /opt/conda/lib/python3.10/site-packages (from tensorflow) (23.5.26)\r\n",
      "Requirement already satisfied: gast!=0.5.0,!=0.5.1,!=0.5.2,>=0.2.1 in /opt/conda/lib/python3.10/site-packages (from tensorflow) (0.5.4)\r\n",
      "Requirement already satisfied: google-pasta>=0.1.1 in /opt/conda/lib/python3.10/site-packages (from tensorflow) (0.2.0)\r\n",
      "Requirement already satisfied: h5py>=3.10.0 in /opt/conda/lib/python3.10/site-packages (from tensorflow) (3.10.0)\r\n",
      "Requirement already satisfied: libclang>=13.0.0 in /opt/conda/lib/python3.10/site-packages (from tensorflow) (16.0.6)\r\n",
      "Requirement already satisfied: ml-dtypes~=0.3.1 in /opt/conda/lib/python3.10/site-packages (from tensorflow) (0.3.2)\r\n",
      "Requirement already satisfied: opt-einsum>=2.3.2 in /opt/conda/lib/python3.10/site-packages (from tensorflow) (3.3.0)\r\n",
      "Requirement already satisfied: packaging in /opt/conda/lib/python3.10/site-packages (from tensorflow) (21.3)\r\n",
      "Requirement already satisfied: protobuf!=4.21.0,!=4.21.1,!=4.21.2,!=4.21.3,!=4.21.4,!=4.21.5,<5.0.0dev,>=3.20.3 in /opt/conda/lib/python3.10/site-packages (from tensorflow) (3.20.3)\r\n",
      "Requirement already satisfied: requests<3,>=2.21.0 in /opt/conda/lib/python3.10/site-packages (from tensorflow) (2.31.0)\r\n",
      "Requirement already satisfied: setuptools in /opt/conda/lib/python3.10/site-packages (from tensorflow) (69.0.3)\r\n",
      "Requirement already satisfied: six>=1.12.0 in /opt/conda/lib/python3.10/site-packages (from tensorflow) (1.16.0)\r\n",
      "Requirement already satisfied: termcolor>=1.1.0 in /opt/conda/lib/python3.10/site-packages (from tensorflow) (2.4.0)\r\n",
      "Requirement already satisfied: typing-extensions>=3.6.6 in /opt/conda/lib/python3.10/site-packages (from tensorflow) (4.9.0)\r\n",
      "Requirement already satisfied: wrapt>=1.11.0 in /opt/conda/lib/python3.10/site-packages (from tensorflow) (1.14.1)\r\n",
      "Requirement already satisfied: grpcio<2.0,>=1.24.3 in /opt/conda/lib/python3.10/site-packages (from tensorflow) (1.51.1)\r\n",
      "Requirement already satisfied: tensorboard<2.17,>=2.16 in /opt/conda/lib/python3.10/site-packages (from tensorflow) (2.16.2)\r\n",
      "Requirement already satisfied: keras>=3.0.0 in /opt/conda/lib/python3.10/site-packages (from tensorflow) (3.0.5)\r\n",
      "Requirement already satisfied: tensorflow-io-gcs-filesystem>=0.23.1 in /opt/conda/lib/python3.10/site-packages (from tensorflow) (0.35.0)\r\n",
      "Requirement already satisfied: numpy<2.0.0,>=1.23.5 in /opt/conda/lib/python3.10/site-packages (from tensorflow) (1.26.4)\r\n",
      "Requirement already satisfied: wheel<1.0,>=0.23.0 in /opt/conda/lib/python3.10/site-packages (from astunparse>=1.6.0->tensorflow) (0.42.0)\r\n",
      "Requirement already satisfied: rich in /opt/conda/lib/python3.10/site-packages (from keras>=3.0.0->tensorflow) (13.7.0)\r\n",
      "Requirement already satisfied: namex in /opt/conda/lib/python3.10/site-packages (from keras>=3.0.0->tensorflow) (0.0.7)\r\n",
      "Requirement already satisfied: dm-tree in /opt/conda/lib/python3.10/site-packages (from keras>=3.0.0->tensorflow) (0.1.8)\r\n",
      "Requirement already satisfied: charset-normalizer<4,>=2 in /opt/conda/lib/python3.10/site-packages (from requests<3,>=2.21.0->tensorflow) (3.3.2)\r\n",
      "Requirement already satisfied: idna<4,>=2.5 in /opt/conda/lib/python3.10/site-packages (from requests<3,>=2.21.0->tensorflow) (3.6)\r\n",
      "Requirement already satisfied: urllib3<3,>=1.21.1 in /opt/conda/lib/python3.10/site-packages (from requests<3,>=2.21.0->tensorflow) (1.26.18)\r\n",
      "Requirement already satisfied: certifi>=2017.4.17 in /opt/conda/lib/python3.10/site-packages (from requests<3,>=2.21.0->tensorflow) (2024.2.2)\r\n",
      "Requirement already satisfied: markdown>=2.6.8 in /opt/conda/lib/python3.10/site-packages (from tensorboard<2.17,>=2.16->tensorflow) (3.5.2)\r\n",
      "Requirement already satisfied: tensorboard-data-server<0.8.0,>=0.7.0 in /opt/conda/lib/python3.10/site-packages (from tensorboard<2.17,>=2.16->tensorflow) (0.7.2)\r\n",
      "Requirement already satisfied: werkzeug>=1.0.1 in /opt/conda/lib/python3.10/site-packages (from tensorboard<2.17,>=2.16->tensorflow) (3.0.1)\r\n",
      "Requirement already satisfied: pyparsing!=3.0.5,>=2.0.2 in /opt/conda/lib/python3.10/site-packages (from packaging->tensorflow) (3.1.1)\r\n",
      "Requirement already satisfied: MarkupSafe>=2.1.1 in /opt/conda/lib/python3.10/site-packages (from werkzeug>=1.0.1->tensorboard<2.17,>=2.16->tensorflow) (2.1.3)\r\n",
      "Requirement already satisfied: markdown-it-py>=2.2.0 in /opt/conda/lib/python3.10/site-packages (from rich->keras>=3.0.0->tensorflow) (3.0.0)\r\n",
      "Requirement already satisfied: pygments<3.0.0,>=2.13.0 in /opt/conda/lib/python3.10/site-packages (from rich->keras>=3.0.0->tensorflow) (2.17.2)\r\n",
      "Requirement already satisfied: mdurl~=0.1 in /opt/conda/lib/python3.10/site-packages (from markdown-it-py>=2.2.0->rich->keras>=3.0.0->tensorflow) (0.1.2)\r\n",
      "Note: you may need to restart the kernel to use updated packages.\n"
     ]
    }
   ],
   "source": [
    "pip install --upgrade tensorflow"
   ]
  },
  {
   "cell_type": "code",
   "execution_count": 9,
   "id": "e2e58656",
   "metadata": {
    "execution": {
     "iopub.execute_input": "2024-03-24T07:45:45.664926Z",
     "iopub.status.busy": "2024-03-24T07:45:45.664586Z",
     "iopub.status.idle": "2024-03-24T10:45:42.595786Z",
     "shell.execute_reply": "2024-03-24T10:45:42.593530Z"
    },
    "papermill": {
     "duration": 10798.966278,
     "end_time": "2024-03-24T10:45:44.608433",
     "exception": false,
     "start_time": "2024-03-24T07:45:45.642155",
     "status": "completed"
    },
    "tags": []
   },
   "outputs": [
    {
     "name": "stdout",
     "output_type": "stream",
     "text": [
      "Epoch 1/20\n"
     ]
    },
    {
     "name": "stderr",
     "output_type": "stream",
     "text": [
      "/opt/conda/lib/python3.10/site-packages/keras/src/trainers/data_adapters/py_dataset_adapter.py:122: UserWarning: Your `PyDataset` class should call `super().__init__(**kwargs)` in its constructor. `**kwargs` can include `workers`, `use_multiprocessing`, `max_queue_size`. Do not pass these arguments to `fit()`, as they will be ignored.\n",
      "  self._warn_if_super_not_called()\n",
      "WARNING: All log messages before absl::InitializeLog() is called are written to STDERR\n",
      "I0000 00:00:1711266351.070427      77 service.cc:145] XLA service 0x7a630000a790 initialized for platform CUDA (this does not guarantee that XLA will be used). Devices:\n",
      "I0000 00:00:1711266351.070470      77 service.cc:153]   StreamExecutor device (0): Tesla P100-PCIE-16GB, Compute Capability 6.0\n",
      "2024-03-24 07:45:52.426781: E external/local_xla/xla/service/gpu/buffer_comparator.cc:149] Difference at 0: 5.22285, expected 4.50617\n",
      "2024-03-24 07:45:52.426837: E external/local_xla/xla/service/gpu/buffer_comparator.cc:149] Difference at 19: 4.83523, expected 4.11855\n",
      "2024-03-24 07:45:52.426847: E external/local_xla/xla/service/gpu/buffer_comparator.cc:149] Difference at 20: 6.14347, expected 5.42679\n",
      "2024-03-24 07:45:52.426854: E external/local_xla/xla/service/gpu/buffer_comparator.cc:149] Difference at 21: 5.72417, expected 5.00749\n",
      "2024-03-24 07:45:52.426862: E external/local_xla/xla/service/gpu/buffer_comparator.cc:149] Difference at 29: 6.00776, expected 5.29109\n",
      "2024-03-24 07:45:52.426870: E external/local_xla/xla/service/gpu/buffer_comparator.cc:149] Difference at 30: 5.39609, expected 4.67941\n",
      "2024-03-24 07:45:52.426877: E external/local_xla/xla/service/gpu/buffer_comparator.cc:149] Difference at 31: 5.14673, expected 4.43005\n",
      "2024-03-24 07:45:52.426885: E external/local_xla/xla/service/gpu/buffer_comparator.cc:149] Difference at 61: 5.93186, expected 5.21518\n",
      "2024-03-24 07:45:52.426892: E external/local_xla/xla/service/gpu/buffer_comparator.cc:149] Difference at 67: 6.09497, expected 5.3783\n",
      "2024-03-24 07:45:52.426900: E external/local_xla/xla/service/gpu/buffer_comparator.cc:149] Difference at 72: 4.9921, expected 4.27543\n",
      "E0000 00:00:1711266352.455607      77 conv_algorithm_picker.cc:742] Results mismatch between different convolution algorithms. This is likely a bug/unexpected loss of precision in cudnn.\n",
      "(f32[32,32,254,254]{3,2,1,0}, u8[0]{0}) custom-call(f32[32,3,256,256]{3,2,1,0}, f32[32,3,3,3]{3,2,1,0}, f32[32]{0}), window={size=3x3}, dim_labels=bf01_oi01->bf01, custom_call_target=\"__cudnn$convBiasActivationForward\", backend_config={\"operation_queue_id\":\"0\",\"wait_on_operation_queues\":[],\"cudnn_conv_backend_config\":{\"conv_result_scale\":1,\"activation_mode\":\"kRelu\",\"side_input_scale\":0,\"leakyrelu_alpha\":0}} for eng20{k2=2,k4=1,k5=1,k6=0,k7=0} vs eng15{k5=1,k6=0,k7=1,k10=1}\n",
      "E0000 00:00:1711266352.455660      77 conv_algorithm_picker.cc:304] Device: Tesla P100-PCIE-16GB\n",
      "E0000 00:00:1711266352.455663      77 conv_algorithm_picker.cc:305] Platform: Compute Capability 6.0\n",
      "E0000 00:00:1711266352.455665      77 conv_algorithm_picker.cc:306] Driver: 12020 (535.129.3)\n",
      "E0000 00:00:1711266352.455667      77 conv_algorithm_picker.cc:307] Runtime: <undefined>\n",
      "E0000 00:00:1711266352.455676      77 conv_algorithm_picker.cc:314] cudnn version: 8.9.0\n"
     ]
    },
    {
     "name": "stdout",
     "output_type": "stream",
     "text": [
      "\u001b[1m   1/2560\u001b[0m \u001b[37m━━━━━━━━━━━━━━━━━━━━\u001b[0m \u001b[1m6:00:33\u001b[0m 8s/step - accuracy: 0.0312 - loss: 2.3495"
     ]
    },
    {
     "name": "stderr",
     "output_type": "stream",
     "text": [
      "I0000 00:00:1711266354.752214      77 device_compiler.h:188] Compiled cluster using XLA!  This line is logged at most once for the lifetime of the process.\n"
     ]
    },
    {
     "name": "stdout",
     "output_type": "stream",
     "text": [
      "\u001b[1m1109/2560\u001b[0m \u001b[32m━━━━━━━━\u001b[0m\u001b[37m━━━━━━━━━━━━\u001b[0m \u001b[1m10:24\u001b[0m 430ms/step - accuracy: 0.6421 - loss: 4.3436"
     ]
    },
    {
     "name": "stderr",
     "output_type": "stream",
     "text": [
      "2024-03-24 07:53:52.338460: E external/local_xla/xla/service/gpu/buffer_comparator.cc:149] Difference at 0: 6.16963, expected 5.41021\n",
      "2024-03-24 07:53:52.338523: E external/local_xla/xla/service/gpu/buffer_comparator.cc:149] Difference at 1: 6.17944, expected 5.42002\n",
      "2024-03-24 07:53:52.338539: E external/local_xla/xla/service/gpu/buffer_comparator.cc:149] Difference at 20: 5.33829, expected 4.57887\n",
      "2024-03-24 07:53:52.338551: E external/local_xla/xla/service/gpu/buffer_comparator.cc:149] Difference at 30: 6.5212, expected 5.76178\n",
      "2024-03-24 07:53:52.338562: E external/local_xla/xla/service/gpu/buffer_comparator.cc:149] Difference at 31: 4.53269, expected 3.77327\n",
      "2024-03-24 07:53:52.338569: E external/local_xla/xla/service/gpu/buffer_comparator.cc:149] Difference at 38: 6.35237, expected 5.59295\n",
      "2024-03-24 07:53:52.338577: E external/local_xla/xla/service/gpu/buffer_comparator.cc:149] Difference at 40: 6.33219, expected 5.57277\n",
      "2024-03-24 07:53:52.338585: E external/local_xla/xla/service/gpu/buffer_comparator.cc:149] Difference at 57: 6.2581, expected 5.49868\n",
      "2024-03-24 07:53:52.338592: E external/local_xla/xla/service/gpu/buffer_comparator.cc:149] Difference at 61: 5.67152, expected 4.9121\n",
      "2024-03-24 07:53:52.338600: E external/local_xla/xla/service/gpu/buffer_comparator.cc:149] Difference at 66: 5.48518, expected 4.72576\n",
      "E0000 00:00:1711266832.366932      77 conv_algorithm_picker.cc:742] Results mismatch between different convolution algorithms. This is likely a bug/unexpected loss of precision in cudnn.\n",
      "(f32[26,32,254,254]{3,2,1,0}, u8[0]{0}) custom-call(f32[26,3,256,256]{3,2,1,0}, f32[32,3,3,3]{3,2,1,0}, f32[32]{0}), window={size=3x3}, dim_labels=bf01_oi01->bf01, custom_call_target=\"__cudnn$convBiasActivationForward\", backend_config={\"operation_queue_id\":\"0\",\"wait_on_operation_queues\":[],\"cudnn_conv_backend_config\":{\"conv_result_scale\":1,\"activation_mode\":\"kRelu\",\"side_input_scale\":0,\"leakyrelu_alpha\":0}} for eng20{k2=2,k4=1,k5=1,k6=0,k7=0} vs eng15{k5=1,k6=0,k7=1,k10=1}\n",
      "E0000 00:00:1711266832.366972      77 conv_algorithm_picker.cc:304] Device: Tesla P100-PCIE-16GB\n",
      "E0000 00:00:1711266832.366976      77 conv_algorithm_picker.cc:305] Platform: Compute Capability 6.0\n",
      "E0000 00:00:1711266832.366979      77 conv_algorithm_picker.cc:306] Driver: 12020 (535.129.3)\n",
      "E0000 00:00:1711266832.366982      77 conv_algorithm_picker.cc:307] Runtime: <undefined>\n",
      "E0000 00:00:1711266832.366995      77 conv_algorithm_picker.cc:314] cudnn version: 8.9.0\n"
     ]
    },
    {
     "name": "stdout",
     "output_type": "stream",
     "text": [
      "\u001b[1m2560/2560\u001b[0m \u001b[32m━━━━━━━━━━━━━━━━━━━━\u001b[0m\u001b[37m\u001b[0m \u001b[1m1272s\u001b[0m 494ms/step - accuracy: 0.7313 - loss: 2.4481 - val_accuracy: 0.8667 - val_loss: 0.3905\n",
      "Epoch 2/20\n",
      "\u001b[1m   1/2560\u001b[0m \u001b[37m━━━━━━━━━━━━━━━━━━━━\u001b[0m \u001b[1m1:01\u001b[0m 24ms/step - accuracy: 0.8750 - loss: 0.3044"
     ]
    },
    {
     "name": "stderr",
     "output_type": "stream",
     "text": [
      "/opt/conda/lib/python3.10/contextlib.py:153: UserWarning: Your input ran out of data; interrupting training. Make sure that your dataset or generator can generate at least `steps_per_epoch * epochs` batches. You may need to use the `.repeat()` function when building your dataset.\n",
      "  self.gen.throw(typ, value, traceback)\n",
      "2024-03-24 08:06:58.204260: E external/local_xla/xla/service/gpu/buffer_comparator.cc:149] Difference at 129063: 5.35229, expected 4.67255\n",
      "2024-03-24 08:06:58.204316: E external/local_xla/xla/service/gpu/buffer_comparator.cc:149] Difference at 129317: 4.6381, expected 3.95836\n",
      "2024-03-24 08:06:58.204326: E external/local_xla/xla/service/gpu/buffer_comparator.cc:149] Difference at 129442: 5.36458, expected 4.68484\n",
      "2024-03-24 08:06:58.204334: E external/local_xla/xla/service/gpu/buffer_comparator.cc:149] Difference at 129443: 5.7503, expected 5.07056\n",
      "2024-03-24 08:06:58.204342: E external/local_xla/xla/service/gpu/buffer_comparator.cc:149] Difference at 129464: 5.45647, expected 4.77673\n",
      "2024-03-24 08:06:58.204350: E external/local_xla/xla/service/gpu/buffer_comparator.cc:149] Difference at 129486: 5.67042, expected 4.99069\n",
      "2024-03-24 08:06:58.204357: E external/local_xla/xla/service/gpu/buffer_comparator.cc:149] Difference at 129487: 5.79308, expected 5.11335\n",
      "2024-03-24 08:06:58.204366: E external/local_xla/xla/service/gpu/buffer_comparator.cc:149] Difference at 129609: 5.27876, expected 4.59903\n",
      "2024-03-24 08:06:58.204373: E external/local_xla/xla/service/gpu/buffer_comparator.cc:149] Difference at 129695: 5.76101, expected 5.08128\n",
      "2024-03-24 08:06:58.204381: E external/local_xla/xla/service/gpu/buffer_comparator.cc:149] Difference at 129740: 5.25578, expected 4.57605\n",
      "E0000 00:00:1711267618.208557      79 conv_algorithm_picker.cc:742] Results mismatch between different convolution algorithms. This is likely a bug/unexpected loss of precision in cudnn.\n",
      "(f32[4,32,254,254]{3,2,1,0}, u8[0]{0}) custom-call(f32[4,3,256,256]{3,2,1,0}, f32[32,3,3,3]{3,2,1,0}, f32[32]{0}), window={size=3x3}, dim_labels=bf01_oi01->bf01, custom_call_target=\"__cudnn$convBiasActivationForward\", backend_config={\"operation_queue_id\":\"0\",\"wait_on_operation_queues\":[],\"cudnn_conv_backend_config\":{\"conv_result_scale\":1,\"activation_mode\":\"kRelu\",\"side_input_scale\":0,\"leakyrelu_alpha\":0}} for eng20{k2=2,k4=1,k5=1,k6=0,k7=0} vs eng15{k5=1,k6=0,k7=1,k10=1}\n",
      "E0000 00:00:1711267618.208594      79 conv_algorithm_picker.cc:304] Device: Tesla P100-PCIE-16GB\n",
      "E0000 00:00:1711267618.208596      79 conv_algorithm_picker.cc:305] Platform: Compute Capability 6.0\n",
      "E0000 00:00:1711267618.208598      79 conv_algorithm_picker.cc:306] Driver: 12020 (535.129.3)\n",
      "E0000 00:00:1711267618.208600      79 conv_algorithm_picker.cc:307] Runtime: <undefined>\n",
      "E0000 00:00:1711267618.208606      79 conv_algorithm_picker.cc:314] cudnn version: 8.9.0\n"
     ]
    },
    {
     "name": "stdout",
     "output_type": "stream",
     "text": [
      "\u001b[1m2560/2560\u001b[0m \u001b[32m━━━━━━━━━━━━━━━━━━━━\u001b[0m\u001b[37m\u001b[0m \u001b[1m1s\u001b[0m 424us/step - accuracy: 0.8750 - loss: 0.3044 - val_accuracy: 0.5000 - val_loss: 1.2491\n",
      "Epoch 3/20\n",
      "\u001b[1m2560/2560\u001b[0m \u001b[32m━━━━━━━━━━━━━━━━━━━━\u001b[0m\u001b[37m\u001b[0m \u001b[1m833s\u001b[0m 325ms/step - accuracy: 0.9211 - loss: 0.2355 - val_accuracy: 0.8679 - val_loss: 0.4118\n",
      "Epoch 4/20\n",
      "\u001b[1m2560/2560\u001b[0m \u001b[32m━━━━━━━━━━━━━━━━━━━━\u001b[0m\u001b[37m\u001b[0m \u001b[1m0s\u001b[0m 13us/step - accuracy: 0.9062 - loss: 0.2849 - val_accuracy: 0.7500 - val_loss: 0.5331\n",
      "Epoch 5/20\n",
      "\u001b[1m2560/2560\u001b[0m \u001b[32m━━━━━━━━━━━━━━━━━━━━\u001b[0m\u001b[37m\u001b[0m \u001b[1m952s\u001b[0m 371ms/step - accuracy: 0.9532 - loss: 0.1413 - val_accuracy: 0.8531 - val_loss: 0.5952\n",
      "Epoch 6/20\n",
      "\u001b[1m2560/2560\u001b[0m \u001b[32m━━━━━━━━━━━━━━━━━━━━\u001b[0m\u001b[37m\u001b[0m \u001b[1m0s\u001b[0m 13us/step - accuracy: 0.9062 - loss: 0.2265 - val_accuracy: 1.0000 - val_loss: 0.0994\n",
      "Epoch 7/20\n",
      "\u001b[1m2560/2560\u001b[0m \u001b[32m━━━━━━━━━━━━━━━━━━━━\u001b[0m\u001b[37m\u001b[0m \u001b[1m1041s\u001b[0m 406ms/step - accuracy: 0.9680 - loss: 0.1032 - val_accuracy: 0.8728 - val_loss: 0.5786\n",
      "Epoch 8/20\n",
      "\u001b[1m2560/2560\u001b[0m \u001b[32m━━━━━━━━━━━━━━━━━━━━\u001b[0m\u001b[37m\u001b[0m \u001b[1m0s\u001b[0m 30us/step - accuracy: 0.9688 - loss: 0.0372 - val_accuracy: 1.0000 - val_loss: 0.0424\n",
      "Epoch 9/20\n",
      "\u001b[1m2560/2560\u001b[0m \u001b[32m━━━━━━━━━━━━━━━━━━━━\u001b[0m\u001b[37m\u001b[0m \u001b[1m1228s\u001b[0m 479ms/step - accuracy: 0.9780 - loss: 0.0731 - val_accuracy: 0.8824 - val_loss: 0.6028\n",
      "Epoch 10/20\n",
      "\u001b[1m2560/2560\u001b[0m \u001b[32m━━━━━━━━━━━━━━━━━━━━\u001b[0m\u001b[37m\u001b[0m \u001b[1m0s\u001b[0m 22us/step - accuracy: 1.0000 - loss: 0.0230 - val_accuracy: 1.0000 - val_loss: 0.0029\n",
      "Epoch 11/20\n",
      "\u001b[1m2560/2560\u001b[0m \u001b[32m━━━━━━━━━━━━━━━━━━━━\u001b[0m\u001b[37m\u001b[0m \u001b[1m1131s\u001b[0m 441ms/step - accuracy: 0.9845 - loss: 0.0572 - val_accuracy: 0.8822 - val_loss: 0.7493\n",
      "Epoch 12/20\n",
      "\u001b[1m2560/2560\u001b[0m \u001b[32m━━━━━━━━━━━━━━━━━━━━\u001b[0m\u001b[37m\u001b[0m \u001b[1m0s\u001b[0m 18us/step - accuracy: 1.0000 - loss: 0.0074 - val_accuracy: 0.5000 - val_loss: 6.2781\n",
      "Epoch 13/20\n",
      "\u001b[1m2560/2560\u001b[0m \u001b[32m━━━━━━━━━━━━━━━━━━━━\u001b[0m\u001b[37m\u001b[0m \u001b[1m1038s\u001b[0m 405ms/step - accuracy: 0.9889 - loss: 0.0417 - val_accuracy: 0.8700 - val_loss: 0.8489\n",
      "Epoch 14/20\n",
      "\u001b[1m2560/2560\u001b[0m \u001b[32m━━━━━━━━━━━━━━━━━━━━\u001b[0m\u001b[37m\u001b[0m \u001b[1m0s\u001b[0m 26us/step - accuracy: 1.0000 - loss: 0.0050 - val_accuracy: 0.7500 - val_loss: 0.9172\n",
      "Epoch 15/20\n",
      "\u001b[1m2560/2560\u001b[0m \u001b[32m━━━━━━━━━━━━━━━━━━━━\u001b[0m\u001b[37m\u001b[0m \u001b[1m1051s\u001b[0m 410ms/step - accuracy: 0.9897 - loss: 0.0372 - val_accuracy: 0.8634 - val_loss: 0.8132\n",
      "Epoch 16/20\n",
      "\u001b[1m2560/2560\u001b[0m \u001b[32m━━━━━━━━━━━━━━━━━━━━\u001b[0m\u001b[37m\u001b[0m \u001b[1m0s\u001b[0m 21us/step - accuracy: 0.9688 - loss: 0.0256 - val_accuracy: 0.7500 - val_loss: 2.6144\n",
      "Epoch 17/20\n",
      "\u001b[1m2560/2560\u001b[0m \u001b[32m━━━━━━━━━━━━━━━━━━━━\u001b[0m\u001b[37m\u001b[0m \u001b[1m1129s\u001b[0m 440ms/step - accuracy: 0.9931 - loss: 0.0240 - val_accuracy: 0.8838 - val_loss: 0.8793\n",
      "Epoch 18/20\n",
      "\u001b[1m2560/2560\u001b[0m \u001b[32m━━━━━━━━━━━━━━━━━━━━\u001b[0m\u001b[37m\u001b[0m \u001b[1m0s\u001b[0m 29us/step - accuracy: 0.9688 - loss: 0.1672 - val_accuracy: 0.7500 - val_loss: 2.0468\n",
      "Epoch 19/20\n",
      "\u001b[1m2560/2560\u001b[0m \u001b[32m━━━━━━━━━━━━━━━━━━━━\u001b[0m\u001b[37m\u001b[0m \u001b[1m1120s\u001b[0m 437ms/step - accuracy: 0.9923 - loss: 0.0303 - val_accuracy: 0.8805 - val_loss: 0.8949\n",
      "Epoch 20/20\n",
      "\u001b[1m2560/2560\u001b[0m \u001b[32m━━━━━━━━━━━━━━━━━━━━\u001b[0m\u001b[37m\u001b[0m \u001b[1m0s\u001b[0m 26us/step - accuracy: 1.0000 - loss: 0.0055 - val_accuracy: 1.0000 - val_loss: 0.0559\n"
     ]
    }
   ],
   "source": [
    "history = model.fit(\n",
    "    train_generator,\n",
    "    steps_per_epoch=len(train_df) // 32, \n",
    "    epochs=20,\n",
    "    validation_data=validation_generator,\n",
    "    validation_steps=len(validation_df) // 32) "
   ]
  },
  {
   "cell_type": "code",
   "execution_count": 10,
   "id": "9951c237",
   "metadata": {
    "execution": {
     "iopub.execute_input": "2024-03-24T10:45:48.945580Z",
     "iopub.status.busy": "2024-03-24T10:45:48.944529Z",
     "iopub.status.idle": "2024-03-24T10:45:48.993905Z",
     "shell.execute_reply": "2024-03-24T10:45:48.993044Z"
    },
    "papermill": {
     "duration": 2.218572,
     "end_time": "2024-03-24T10:45:48.996018",
     "exception": false,
     "start_time": "2024-03-24T10:45:46.777446",
     "status": "completed"
    },
    "tags": []
   },
   "outputs": [
    {
     "data": {
      "text/html": [
       "<div>\n",
       "<style scoped>\n",
       "    .dataframe tbody tr th:only-of-type {\n",
       "        vertical-align: middle;\n",
       "    }\n",
       "\n",
       "    .dataframe tbody tr th {\n",
       "        vertical-align: top;\n",
       "    }\n",
       "\n",
       "    .dataframe thead th {\n",
       "        text-align: right;\n",
       "    }\n",
       "</style>\n",
       "<table border=\"1\" class=\"dataframe\">\n",
       "  <thead>\n",
       "    <tr style=\"text-align: right;\">\n",
       "      <th></th>\n",
       "      <th>uniqueID</th>\n",
       "      <th>imageFile</th>\n",
       "    </tr>\n",
       "  </thead>\n",
       "  <tbody>\n",
       "    <tr>\n",
       "      <th>0</th>\n",
       "      <td>1</td>\n",
       "      <td>facd4dcd8e869617.jpg</td>\n",
       "    </tr>\n",
       "    <tr>\n",
       "      <th>1</th>\n",
       "      <td>9</td>\n",
       "      <td>78c96bb2b2b62579.jpg</td>\n",
       "    </tr>\n",
       "    <tr>\n",
       "      <th>2</th>\n",
       "      <td>10</td>\n",
       "      <td>d292d2c4e0e6ad9d.jpg</td>\n",
       "    </tr>\n",
       "    <tr>\n",
       "      <th>3</th>\n",
       "      <td>14</td>\n",
       "      <td>3633494929870713.jpg</td>\n",
       "    </tr>\n",
       "    <tr>\n",
       "      <th>4</th>\n",
       "      <td>16</td>\n",
       "      <td>dc94b496c8e2d6c4.jpg</td>\n",
       "    </tr>\n",
       "  </tbody>\n",
       "</table>\n",
       "</div>"
      ],
      "text/plain": [
       "   uniqueID             imageFile\n",
       "0         1  facd4dcd8e869617.jpg\n",
       "1         9  78c96bb2b2b62579.jpg\n",
       "2        10  d292d2c4e0e6ad9d.jpg\n",
       "3        14  3633494929870713.jpg\n",
       "4        16  dc94b496c8e2d6c4.jpg"
      ]
     },
     "execution_count": 10,
     "metadata": {},
     "output_type": "execute_result"
    }
   ],
   "source": [
    "test_df.head() "
   ]
  },
  {
   "cell_type": "code",
   "execution_count": 11,
   "id": "763bdd16",
   "metadata": {
    "execution": {
     "iopub.execute_input": "2024-03-24T10:45:53.282593Z",
     "iopub.status.busy": "2024-03-24T10:45:53.281819Z",
     "iopub.status.idle": "2024-03-24T10:54:05.830345Z",
     "shell.execute_reply": "2024-03-24T10:54:05.829327Z"
    },
    "papermill": {
     "duration": 494.630342,
     "end_time": "2024-03-24T10:54:05.834107",
     "exception": false,
     "start_time": "2024-03-24T10:45:51.203765",
     "status": "completed"
    },
    "tags": []
   },
   "outputs": [
    {
     "name": "stdout",
     "output_type": "stream",
     "text": [
      "Found 30690 validated image filenames.\n"
     ]
    },
    {
     "name": "stderr",
     "output_type": "stream",
     "text": [
      "/opt/conda/lib/python3.10/site-packages/keras/src/trainers/data_adapters/py_dataset_adapter.py:122: UserWarning: Your `PyDataset` class should call `super().__init__(**kwargs)` in its constructor. `**kwargs` can include `workers`, `use_multiprocessing`, `max_queue_size`. Do not pass these arguments to `fit()`, as they will be ignored.\n",
      "  self._warn_if_super_not_called()\n"
     ]
    },
    {
     "name": "stdout",
     "output_type": "stream",
     "text": [
      "\u001b[1m959/960\u001b[0m \u001b[32m━━━━━━━━━━━━━━━━━━━\u001b[0m\u001b[37m━\u001b[0m \u001b[1m0s\u001b[0m 440ms/step"
     ]
    },
    {
     "name": "stderr",
     "output_type": "stream",
     "text": [
      "2024-03-24 10:54:04.182832: E external/local_xla/xla/service/gpu/buffer_comparator.cc:149] Difference at 0: 5.17171, expected 4.3613\n",
      "2024-03-24 10:54:04.187061: E external/local_xla/xla/service/gpu/buffer_comparator.cc:149] Difference at 1: 6.10962, expected 5.29921\n",
      "2024-03-24 10:54:04.187087: E external/local_xla/xla/service/gpu/buffer_comparator.cc:149] Difference at 2: 6.32575, expected 5.51534\n",
      "2024-03-24 10:54:04.187100: E external/local_xla/xla/service/gpu/buffer_comparator.cc:149] Difference at 3: 6.90323, expected 6.09282\n",
      "2024-03-24 10:54:04.187111: E external/local_xla/xla/service/gpu/buffer_comparator.cc:149] Difference at 6: 6.86856, expected 6.05815\n",
      "2024-03-24 10:54:04.187121: E external/local_xla/xla/service/gpu/buffer_comparator.cc:149] Difference at 7: 6.58906, expected 5.77865\n",
      "2024-03-24 10:54:04.187132: E external/local_xla/xla/service/gpu/buffer_comparator.cc:149] Difference at 8: 6.0516, expected 5.24119\n",
      "2024-03-24 10:54:04.187142: E external/local_xla/xla/service/gpu/buffer_comparator.cc:149] Difference at 9: 6.04772, expected 5.23731\n",
      "2024-03-24 10:54:04.187151: E external/local_xla/xla/service/gpu/buffer_comparator.cc:149] Difference at 10: 6.69139, expected 5.88098\n",
      "2024-03-24 10:54:04.187163: E external/local_xla/xla/service/gpu/buffer_comparator.cc:149] Difference at 11: 5.88941, expected 5.079\n",
      "E0000 00:00:1711277644.191120      77 conv_algorithm_picker.cc:742] Results mismatch between different convolution algorithms. This is likely a bug/unexpected loss of precision in cudnn.\n",
      "(f32[2,32,254,254]{3,2,1,0}, u8[0]{0}) custom-call(f32[2,3,256,256]{3,2,1,0}, f32[32,3,3,3]{3,2,1,0}, f32[32]{0}), window={size=3x3}, dim_labels=bf01_oi01->bf01, custom_call_target=\"__cudnn$convBiasActivationForward\", backend_config={\"operation_queue_id\":\"0\",\"wait_on_operation_queues\":[],\"cudnn_conv_backend_config\":{\"conv_result_scale\":1,\"activation_mode\":\"kRelu\",\"side_input_scale\":0,\"leakyrelu_alpha\":0}} for eng20{k2=2,k4=1,k5=1,k6=0,k7=0} vs eng15{k5=1,k6=0,k7=1,k10=1}\n",
      "E0000 00:00:1711277644.191165      77 conv_algorithm_picker.cc:304] Device: Tesla P100-PCIE-16GB\n",
      "E0000 00:00:1711277644.191168      77 conv_algorithm_picker.cc:305] Platform: Compute Capability 6.0\n",
      "E0000 00:00:1711277644.191170      77 conv_algorithm_picker.cc:306] Driver: 12020 (535.129.3)\n",
      "E0000 00:00:1711277644.191173      77 conv_algorithm_picker.cc:307] Runtime: <undefined>\n",
      "E0000 00:00:1711277644.191178      77 conv_algorithm_picker.cc:314] cudnn version: 8.9.0\n"
     ]
    },
    {
     "name": "stdout",
     "output_type": "stream",
     "text": [
      "\u001b[1m960/960\u001b[0m \u001b[32m━━━━━━━━━━━━━━━━━━━━\u001b[0m\u001b[37m\u001b[0m \u001b[1m425s\u001b[0m 441ms/step\n"
     ]
    }
   ],
   "source": [
    "test_generator = test_datagen.flow_from_dataframe(\n",
    "    dataframe=test_df,\n",
    "    directory='/kaggle/input/bttai-nybg-2024/BTTAIxNYBG-test/BTTAIxNYBG-test',\n",
    "    x_col=\"imageFile\",\n",
    "    y_col=None, \n",
    "    target_size=(256, 256),\n",
    "    batch_size=32,\n",
    "    class_mode=None,\n",
    "    shuffle=False)\n",
    "\n",
    "predictions = model.predict(test_generator)"
   ]
  },
  {
   "cell_type": "code",
   "execution_count": 12,
   "id": "6366b145",
   "metadata": {
    "execution": {
     "iopub.execute_input": "2024-03-24T10:54:10.288893Z",
     "iopub.status.busy": "2024-03-24T10:54:10.287983Z",
     "iopub.status.idle": "2024-03-24T10:54:10.296234Z",
     "shell.execute_reply": "2024-03-24T10:54:10.295269Z"
    },
    "papermill": {
     "duration": 2.18106,
     "end_time": "2024-03-24T10:54:10.298335",
     "exception": false,
     "start_time": "2024-03-24T10:54:08.117275",
     "status": "completed"
    },
    "tags": []
   },
   "outputs": [],
   "source": [
    "import numpy as np\n",
    "import pandas as pd\n",
    "\n",
    "predicted_class_labels = np.argmax(predictions, axis=1)"
   ]
  },
  {
   "cell_type": "code",
   "execution_count": 13,
   "id": "1c737015",
   "metadata": {
    "execution": {
     "iopub.execute_input": "2024-03-24T10:54:14.861407Z",
     "iopub.status.busy": "2024-03-24T10:54:14.860721Z",
     "iopub.status.idle": "2024-03-24T10:54:14.866519Z",
     "shell.execute_reply": "2024-03-24T10:54:14.865618Z"
    },
    "papermill": {
     "duration": 2.332531,
     "end_time": "2024-03-24T10:54:14.868588",
     "exception": false,
     "start_time": "2024-03-24T10:54:12.536057",
     "status": "completed"
    },
    "tags": []
   },
   "outputs": [
    {
     "name": "stdout",
     "output_type": "stream",
     "text": [
      "[1 7 4 ... 0 1 2]\n"
     ]
    }
   ],
   "source": [
    "print(predicted_class_labels)"
   ]
  },
  {
   "cell_type": "code",
   "execution_count": 14,
   "id": "9d1208e2",
   "metadata": {
    "execution": {
     "iopub.execute_input": "2024-03-24T10:54:19.294940Z",
     "iopub.status.busy": "2024-03-24T10:54:19.294591Z",
     "iopub.status.idle": "2024-03-24T10:54:19.599663Z",
     "shell.execute_reply": "2024-03-24T10:54:19.598825Z"
    },
    "papermill": {
     "duration": 2.489231,
     "end_time": "2024-03-24T10:54:19.601706",
     "exception": false,
     "start_time": "2024-03-24T10:54:17.112475",
     "status": "completed"
    },
    "tags": []
   },
   "outputs": [
    {
     "data": {
      "text/plain": [
       "(array([2789., 2981., 3169., 3246., 3092., 3080., 3076., 3304., 3079.,\n",
       "        2874.]),\n",
       " array([0. , 0.9, 1.8, 2.7, 3.6, 4.5, 5.4, 6.3, 7.2, 8.1, 9. ]),\n",
       " <BarContainer object of 10 artists>)"
      ]
     },
     "execution_count": 14,
     "metadata": {},
     "output_type": "execute_result"
    },
    {
     "data": {
      "image/png": "[encoded data removed]",
      "text/plain": [
       "<Figure size 640x480 with 1 Axes>"
      ]
     },
     "metadata": {},
     "output_type": "display_data"
    }
   ],
   "source": [
    "plt.hist(np.argmax(predictions, axis=1))"
   ]
  },
  {
   "cell_type": "code",
   "execution_count": 15,
   "id": "a53dad10",
   "metadata": {
    "execution": {
     "iopub.execute_input": "2024-03-24T10:54:24.185347Z",
     "iopub.status.busy": "2024-03-24T10:54:24.184984Z",
     "iopub.status.idle": "2024-03-24T10:54:24.382452Z",
     "shell.execute_reply": "2024-03-24T10:54:24.381559Z"
    },
    "papermill": {
     "duration": 2.464404,
     "end_time": "2024-03-24T10:54:24.384653",
     "exception": false,
     "start_time": "2024-03-24T10:54:21.920249",
     "status": "completed"
    },
    "tags": []
   },
   "outputs": [
    {
     "data": {
      "image/png": "[encoded data removed]",
      "text/plain": [
       "<Figure size 640x480 with 1 Axes>"
      ]
     },
     "metadata": {},
     "output_type": "display_data"
    }
   ],
   "source": [
    "fig = plt.figure()\n",
    "plt.plot(history.history['loss'], color='teal', label='loss')\n",
    "plt.plot(history.history['val_loss'], color='orange', label='val_loss')\n",
    "fig.suptitle('Loss', fontsize=20)\n",
    "plt.legend(loc=\"upper left\")\n",
    "plt.show()"
   ]
  },
  {
   "cell_type": "code",
   "execution_count": 16,
   "id": "130a612f",
   "metadata": {
    "execution": {
     "iopub.execute_input": "2024-03-24T10:54:28.810246Z",
     "iopub.status.busy": "2024-03-24T10:54:28.809899Z",
     "iopub.status.idle": "2024-03-24T10:54:29.008387Z",
     "shell.execute_reply": "2024-03-24T10:54:29.007435Z"
    },
    "papermill": {
     "duration": 2.362128,
     "end_time": "2024-03-24T10:54:29.010430",
     "exception": false,
     "start_time": "2024-03-24T10:54:26.648302",
     "status": "completed"
    },
    "tags": []
   },
   "outputs": [
    {
     "data": {
      "image/png": "[encoded data removed]",
      "text/plain": [
       "<Figure size 640x480 with 1 Axes>"
      ]
     },
     "metadata": {},
     "output_type": "display_data"
    }
   ],
   "source": [
    "fig = plt.figure()\n",
    "plt.plot(history.history['accuracy'], color='teal', label='accuracy')\n",
    "plt.plot(history.history['val_accuracy'], color='orange', label='val_accuracy')\n",
    "fig.suptitle('Accuracy', fontsize=20)\n",
    "plt.legend(loc=\"upper left\")\n",
    "plt.show()"
   ]
  },
  {
   "cell_type": "code",
   "execution_count": 17,
   "id": "62e2a274",
   "metadata": {
    "execution": {
     "iopub.execute_input": "2024-03-24T10:54:33.516047Z",
     "iopub.status.busy": "2024-03-24T10:54:33.515698Z",
     "iopub.status.idle": "2024-03-24T10:54:33.569124Z",
     "shell.execute_reply": "2024-03-24T10:54:33.568115Z"
    },
    "papermill": {
     "duration": 2.319212,
     "end_time": "2024-03-24T10:54:33.571045",
     "exception": false,
     "start_time": "2024-03-24T10:54:31.251833",
     "status": "completed"
    },
    "tags": []
   },
   "outputs": [
    {
     "name": "stdout",
     "output_type": "stream",
     "text": [
      "   uniqueID  classID\n",
      "0         1        1\n",
      "1         9        7\n",
      "2        10        4\n",
      "3        14        1\n",
      "4        16        6\n"
     ]
    }
   ],
   "source": [
    "\n",
    "submission_df = pd.DataFrame({\n",
    "    'uniqueID': test_df['uniqueID'],\n",
    "    'classID': predicted_class_labels\n",
    "})\n",
    "\n",
    "submission_df.to_csv('BTTAIxNYBG-TerraTechXLA.csv', index=False)\n",
    "print(submission_df.head())\n",
    "\n",
    "\n"
   ]
  },
  {
   "cell_type": "code",
   "execution_count": 18,
   "id": "ca91f7f2",
   "metadata": {
    "execution": {
     "iopub.execute_input": "2024-03-24T10:54:38.121991Z",
     "iopub.status.busy": "2024-03-24T10:54:38.121657Z",
     "iopub.status.idle": "2024-03-24T10:54:38.163601Z",
     "shell.execute_reply": "2024-03-24T10:54:38.162549Z"
    },
    "papermill": {
     "duration": 2.298159,
     "end_time": "2024-03-24T10:54:38.166339",
     "exception": false,
     "start_time": "2024-03-24T10:54:35.868180",
     "status": "completed"
    },
    "tags": []
   },
   "outputs": [
    {
     "name": "stdout",
     "output_type": "stream",
     "text": [
      "<class 'pandas.core.frame.DataFrame'>\n",
      "RangeIndex: 30690 entries, 0 to 30689\n",
      "Data columns (total 2 columns):\n",
      " #   Column    Non-Null Count  Dtype\n",
      "---  ------    --------------  -----\n",
      " 0   uniqueID  30690 non-null  int64\n",
      " 1   classID   30690 non-null  int64\n",
      "dtypes: int64(2)\n",
      "memory usage: 479.7 KB\n"
     ]
    }
   ],
   "source": [
    "submission_df.info()"
   ]
  }
 ],
 "metadata": {
  "kaggle": {
   "accelerator": "gpu",
   "dataSources": [
    {
     "databundleVersionId": 7522884,
     "sourceId": 66199,
     "sourceType": "competition"
    }
   ],
   "dockerImageVersionId": 30674,
   "isGpuEnabled": true,
   "isInternetEnabled": true,
   "language": "python",
   "sourceType": "notebook"
  },
  "kernelspec": {
   "display_name": "Python 3",
   "language": "python",
   "name": "python3"
  },
  "language_info": {
   "codemirror_mode": {
    "name": "ipython",
    "version": 3
   },
   "file_extension": ".py",
   "mimetype": "text/x-python",
   "name": "python",
   "nbconvert_exporter": "python",
   "pygments_lexer": "ipython3",
   "version": "3.10.13"
  },
  "papermill": {
   "default_parameters": {},
   "duration": 11620.032614,
   "end_time": "2024-03-24T10:54:45.200601",
   "environment_variables": {},
   "exception": null,
   "input_path": "__notebook__.ipynb",
   "output_path": "__notebook__.ipynb",
   "parameters": {},
   "start_time": "2024-03-24T07:41:05.167987",
   "version": "2.5.0"
  }
 },
 "nbformat": 4,
 "nbformat_minor": 5
}
